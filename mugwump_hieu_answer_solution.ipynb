{
 "cells": [
  {
   "cell_type": "code",
   "execution_count": 1,
   "metadata": {},
   "outputs": [],
   "source": [
    "#five_five = np.zeros([5,5])\n",
    "import numpy as np\n",
    "\n",
    "# mug_5 = np.zeros([5,5]) original try to use this for the matrix but it was too complicated\n",
    "# print(mug_5)\n",
    "# x_random = np.random.randint(5) Generated random number.\n",
    "# y_random = np.random.randint(5)\n",
    "# print(x_random,y_random)\n",
    "# mug_5 = np.array([['o','o','o','o','o'],['o','o','o','o','o'],['o','o','o','o','o'],\n",
    "# ['o','o','o','o','o'],['o','o','o','o','o']])\n",
    "# print(mug_5)\n",
    "\n",
    "x = int() # initial\n",
    "y = int()\n",
    "\n",
    "#randint(low[, high, size, dtype])\n",
    "#Return random integers from low (inclusive) to high (exclusive)."
   ]
  },
  {
   "cell_type": "markdown",
   "metadata": {},
   "source": [
    "How come I got this comment area??\n"
   ]
  },
  {
   "cell_type": "code",
   "execution_count": 2,
   "metadata": {
    "scrolled": false
   },
   "outputs": [],
   "source": [
    "# for n in range(6):\n",
    "#     print(x_random,y_random)\n",
    "#     x = int(input('enter number between 0 and 4 ')) #here I used the default 0 to 4\n",
    "#     y = int(input('enter number between 0 and 4 '))\n",
    "#     if x == x_random and y == y_random: # to check the co ordinates are the same.\n",
    "#         print(f'You Champion!, You''ve guessed correctly the x and y')\n",
    "#         break\n",
    "#     else:\n",
    "#         if n < 5:\n",
    "#             x_distance = x - x_random\n",
    "#             y_distance = y - y_random\n",
    "#             n+=1\n",
    "#             if n >= 5:\n",
    "#                 print('Sorry, you loss!')\n",
    "#                 break\n",
    "#             print(f'try again x is {x_distance} away and y is {y_distance}')       \n",
    "            "
   ]
  },
  {
   "cell_type": "code",
   "execution_count": 4,
   "metadata": {
    "scrolled": true
   },
   "outputs": [
    {
     "name": "stdout",
     "output_type": "stream",
     "text": [
      "Enter number between 1 and 5 1\n",
      "Enter number between 1 and 5 1\n",
      "[['x' 'o' 'o' 'o' 'o']\n",
      " ['o' 'o' 'o' 'o' 'o']\n",
      " ['o' 'o' 'o' 'o' 'o']\n",
      " ['o' 'o' 'o' 'o' 'o']\n",
      " ['o' 'o' 'o' 'o' 'o']]\n",
      "try again x is -3 away and y is -2 away\n",
      "Enter number between 1 and 5 1\n",
      "Enter number between 1 and 5 1\n",
      "[['x' 'o' 'o' 'o' 'o']\n",
      " ['o' 'o' 'o' 'o' 'o']\n",
      " ['o' 'o' 'o' 'o' 'o']\n",
      " ['o' 'o' 'o' 'o' 'o']\n",
      " ['o' 'o' 'o' 'o' 'o']]\n",
      "try again x is -3 away and y is -2 away\n",
      "Enter number between 1 and 5 1\n",
      "Enter number between 1 and 5 1\n",
      "[['x' 'o' 'o' 'o' 'o']\n",
      " ['o' 'o' 'o' 'o' 'o']\n",
      " ['o' 'o' 'o' 'o' 'o']\n",
      " ['o' 'o' 'o' 'o' 'o']\n",
      " ['o' 'o' 'o' 'o' 'o']]\n",
      "try again x is -3 away and y is -2 away\n",
      "Enter number between 1 and 5 1\n",
      "Enter number between 1 and 5 1\n",
      "[['x' 'o' 'o' 'o' 'o']\n",
      " ['o' 'o' 'o' 'o' 'o']\n",
      " ['o' 'o' 'o' 'o' 'o']\n",
      " ['o' 'o' 'o' 'o' 'o']\n",
      " ['o' 'o' 'o' 'o' 'o']]\n",
      "try again x is -3 away and y is -2 away\n",
      "Enter number between 1 and 5 1\n",
      "Enter number between 1 and 5 1\n",
      "[['x' 'o' 'o' 'o' 'o']\n",
      " ['o' 'o' 'o' 'o' 'o']\n",
      " ['o' 'o' 'o' 'o' 'o']\n",
      " ['o' 'o' 'o' 'o' 'o']\n",
      " ['o' 'o' 'o' 'o' 'o']]\n",
      "Sorry, You Lose!\n"
     ]
    }
   ],
   "source": [
    "mug_5 = np.array([['o','o','o','o','o'],['o','o','o','o','o'],['o','o','o','o','o'],\n",
    "['o','o','o','o','o'],['o','o','o','o','o']])\n",
    "# print(mug_5)\n",
    "x_random = np.random.randint(5)\n",
    "y_random = np.random.randint(5)\n",
    "\n",
    "for n in range(6):\n",
    "#     print(x_random,y_random)\n",
    "    x = int(input('Enter number between 1 and 5 '))-1\n",
    "    y = int(input('Enter number between 1 and 5 '))-1\n",
    "    if x == x_random and y == y_random:\n",
    "        mug_5[x,y] = 'x'\n",
    "        print(mug_5)\n",
    "        print(f'You Champion!, You''ve guessed correctly the x and y') #you've the comment??\n",
    "        break\n",
    "    else:\n",
    "        if n < 5:\n",
    "            mug_5[x,y] = 'x'\n",
    "            print(mug_5)\n",
    "            x_distance = x - x_random\n",
    "            y_distance = y - y_random\n",
    "            n+=1\n",
    "            if n >= 5:\n",
    "                print('Sorry, You Lose!')\n",
    "                break\n",
    "            print(f'try again x is {x_distance} away and y is {y_distance} away')"
   ]
  },
  {
   "cell_type": "code",
   "execution_count": null,
   "metadata": {},
   "outputs": [],
   "source": []
  }
 ],
 "metadata": {
  "kernelspec": {
   "display_name": "Python 3",
   "language": "python",
   "name": "python3"
  },
  "language_info": {
   "codemirror_mode": {
    "name": "ipython",
    "version": 3
   },
   "file_extension": ".py",
   "mimetype": "text/x-python",
   "name": "python",
   "nbconvert_exporter": "python",
   "pygments_lexer": "ipython3",
   "version": "3.7.1"
  }
 },
 "nbformat": 4,
 "nbformat_minor": 2
}
