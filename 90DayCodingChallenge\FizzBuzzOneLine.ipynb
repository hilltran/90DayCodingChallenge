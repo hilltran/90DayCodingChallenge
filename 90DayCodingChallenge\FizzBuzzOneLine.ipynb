{
 "cells": [
  {
   "cell_type": "code",
   "execution_count": 19,
   "metadata": {},
   "outputs": [
    {
     "name": "stdout",
     "output_type": "stream",
     "text": [
      "1\n",
      "Fizz\n",
      "Buzz\n",
      "Fizz\n",
      "5\n",
      "FizzBuzz\n",
      "7\n",
      "Fizz\n",
      "Buzz\n",
      "Fizz\n",
      "11\n",
      "FizzBuzz\n",
      "13\n",
      "Fizz\n",
      "Buzz\n",
      "Fizz\n",
      "17\n"
     ]
    }
   ],
   "source": [
    "#for i in range(1, 101): print('Fizz'*(i%3==0)+'Buzz'*(i%5==0) or str(i))\n",
    "\n",
    "# for i in range(1,101): print(i)\n",
    "    \n",
    "# for i in range(1,101): print('five'*(i%3 ==0)or int(i))\n",
    "\n",
    "# for i in range(17,31): print((i%2==0)and (i%3==0) or str(i))\n",
    "\n",
    "for i in range(1,18): print('Fizz'*(i%2==0)+'Buzz'*(i%3==0) or i)\n"
   ]
  },
  {
   "cell_type": "code",
   "execution_count": null,
   "metadata": {},
   "outputs": [],
   "source": []
  }
 ],
 "metadata": {
  "kernelspec": {
   "display_name": "Python 3",
   "language": "python",
   "name": "python3"
  },
  "language_info": {
   "codemirror_mode": {
    "name": "ipython",
    "version": 3
   },
   "file_extension": ".py",
   "mimetype": "text/x-python",
   "name": "python",
   "nbconvert_exporter": "python",
   "pygments_lexer": "ipython3",
   "version": "3.7.1"
  }
 },
 "nbformat": 4,
 "nbformat_minor": 2
}
